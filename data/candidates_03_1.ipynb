{
  "nbformat": 4,
  "nbformat_minor": 0,
  "metadata": {
    "colab": {
      "provenance": []
    },
    "kernelspec": {
      "name": "python3",
      "display_name": "Python 3"
    },
    "language_info": {
      "name": "python"
    }
  },
  "cells": [
    {
      "cell_type": "code",
      "source": [
        "!pip install numpy<2\n",
        "!pip install rdkit-pypi -q\n"
      ],
      "metadata": {
        "colab": {
          "base_uri": "https://localhost:8080/"
        },
        "id": "Be_w1yiowHi8",
        "outputId": "4fb9c5af-a47a-4ffe-8874-e6d69c1d5d19"
      },
      "execution_count": null,
      "outputs": [
        {
          "output_type": "stream",
          "name": "stdout",
          "text": [
            "/bin/bash: line 1: 2: No such file or directory\n",
            "\u001b[2K   \u001b[90m━━━━━━━━━━━━━━━━━━━━━━━━━━━━━━━━━━━━━━━━\u001b[0m \u001b[32m29.4/29.4 MB\u001b[0m \u001b[31m65.8 MB/s\u001b[0m eta \u001b[36m0:00:00\u001b[0m\n",
            "\u001b[?25h"
          ]
        }
      ]
    },
    {
      "cell_type": "code",
      "execution_count": null,
      "metadata": {
        "colab": {
          "base_uri": "https://localhost:8080/"
        },
        "id": "3X5ZmXAht2E_",
        "outputId": "253d771e-f4c6-49ed-bd6f-a217a104cf84"
      },
      "outputs": [
        {
          "output_type": "stream",
          "name": "stdout",
          "text": [
            "Drive already mounted at /content/drive; to attempt to forcibly remount, call drive.mount(\"/content/drive\", force_remount=True).\n"
          ]
        }
      ],
      "source": [
        "import pandas as pd\n",
        "from rdkit import Chem\n",
        "from rdkit.Chem import Descriptors\n",
        "from rdkit.Chem import rdMolDescriptors\n",
        "from rdkit.Chem import AllChem\n",
        "from google.colab import drive\n",
        "\n",
        "drive.mount('/content/drive')\n",
        "train_df_path = '/content/drive/MyDrive/dacon_1/train.csv'\n",
        "candidates_df_path = '/content/drive/MyDrive/dacon_1/input_candidates_01_1.csv'\n",
        "\n",
        "train_df = pd.read_csv(train_df_path)\n",
        "candidates_df = pd.read_csv(candidates_df_path)"
      ]
    },
    {
      "cell_type": "code",
      "source": [
        "def smiles_to_mol(smiles):\n",
        "    try:\n",
        "        return Chem.MolFromSmiles(smiles)\n",
        "    except:\n",
        "        return None\n",
        "\n",
        "train_df['Mol'] = train_df['Canonical_Smiles'].apply(smiles_to_mol)\n",
        "\n",
        "def calculate_rdkit_features(mol):\n",
        "    if not mol:\n",
        "        return {\n",
        "            'ExactMolWt': None,\n",
        "            'HeavyAtomCount': None,\n",
        "            'NumAtoms': None,\n",
        "            'NumValenceElectrons': None,\n",
        "            'MolMR': None,\n",
        "            'MaxPartialCharge': None,\n",
        "            'MinPartialCharge': None,\n",
        "            'FractionCSP3': None,\n",
        "            'RingCount': None,\n",
        "            'NumAromaticRings': None,\n",
        "            'NumAliphaticRings': None,\n",
        "            'NumSaturatedRings': None,\n",
        "            'NumUnsaturatedRings': None,\n",
        "\n",
        "            'Num_C': None, 'Num_O': None, 'Num_N': None, 'Num_S': None, 'Num_P': None,\n",
        "            'Num_F': None, 'Num_Cl': None, 'Num_Br': None, 'Num_I': None,\n",
        "\n",
        "            'Num_Amide': None, 'Num_Sulfonamide': None,\n",
        "\n",
        "            'Num_Alcohol': None, 'Num_Amine': None, 'Num_CarboxylicAcid': None,\n",
        "            'Num_Ester': None, 'Num_Ketone': None\n",
        "        }\n",
        "\n",
        "    features = {}\n",
        "\n",
        "    features['ExactMolWt'] = Descriptors.ExactMolWt(mol)\n",
        "\n",
        "    features['HeavyAtomCount'] = Descriptors.HeavyAtomCount(mol)\n",
        "    features['NumAtoms'] = mol.GetNumAtoms()\n",
        "\n",
        "    features['NumValenceElectrons'] = Descriptors.NumValenceElectrons(mol)\n",
        "\n",
        "    features['MolMR'] = Descriptors.MolMR(mol)\n",
        "\n",
        "    try:\n",
        "        AllChem.ComputeGasteigerCharges(mol)\n",
        "        charges = [atom.GetDoubleProp('_GasteigerCharge') for atom in mol.GetAtoms() if not np.isnan(atom.GetDoubleProp('_GasteigerCharge'))]\n",
        "        features['MaxPartialCharge'] = max(charges) if charges else None\n",
        "        features['MinPartialCharge'] = min(charges) if charges else None\n",
        "    except:\n",
        "        features['MaxPartialCharge'] = None\n",
        "        features['MinPartialCharge'] = None\n",
        "\n",
        "    features['FractionCSP3'] = Descriptors.FractionCSP3(mol)\n",
        "\n",
        "    features['RingCount'] = Descriptors.RingCount(mol)\n",
        "    features['NumAromaticRings'] = rdMolDescriptors.CalcNumAromaticRings(mol)\n",
        "    features['NumAliphaticRings'] = rdMolDescriptors.CalcNumAliphaticRings(mol)\n",
        "    features['NumSaturatedRings'] = rdMolDescriptors.CalcNumSaturatedRings(mol)\n",
        "\n",
        "    features['NumUnsaturatedRings'] = features['RingCount'] - features['NumSaturatedRings']\n",
        "\n",
        "    elements_to_count = ['C', 'O', 'N', 'S', 'P', 'F', 'Cl', 'Br', 'I']\n",
        "    for element in elements_to_count:\n",
        "        features[f'Num_{element}'] = sum(1 for atom in mol.GetAtoms() if atom.GetSymbol() == element)\n",
        "\n",
        "    # (SMARTS) (이전과 동일)\n",
        "    amide_smarts = Chem.MolFromSmarts('C(=O)N')\n",
        "    sulfonamide_smarts = Chem.MolFromSmarts('S(=O)(=O)N')\n",
        "    func_groups = {\n",
        "        'Alcohol': Chem.MolFromSmarts('[OX2H]'),\n",
        "        'Amine': Chem.MolFromSmarts('[NX3;H2,H1;!$(NC=O)]'),\n",
        "        'CarboxylicAcid': Chem.MolFromSmarts('C(=O)[OH]'),\n",
        "        'Ester': Chem.MolFromSmarts('C(=O)O[#6]'),\n",
        "        'Ketone': Chem.MolFromSmarts('O=[C]([!$([C]=O)])[!$([C]=O)]')\n",
        "    }\n",
        "\n",
        "    features['Num_Amide'] = len(mol.GetSubstructMatches(amide_smarts)) if amide_smarts else None\n",
        "    features['Num_Sulfonamide'] = len(mol.GetSubstructMatches(sulfonamide_smarts)) if sulfonamide_smarts else None\n",
        "\n",
        "    for fg_name, fg_smarts in func_groups.items():\n",
        "        features[f'Num_{fg_name}'] = len(mol.GetSubstructMatches(fg_smarts)) if fg_smarts else None\n",
        "\n",
        "    return features\n",
        "\n",
        "rdkit_features_df = train_df['Mol'].apply(calculate_rdkit_features).apply(pd.Series)\n",
        "\n",
        "# delete Mol (after creating features)\n",
        "train_df = train_df.drop(columns=['Mol'])\n",
        "\n",
        "\n",
        "train_df_with_rdkit = pd.concat([train_df, rdkit_features_df], axis=1)\n",
        "\n",
        "rdkit_features_for_merge = train_df_with_rdkit.set_index('ID').drop(columns=['Canonical_Smiles', 'Inhibition']) # Inhibition 열을 제외\n",
        "\n",
        "candidates_01_1_with_rdkit_features = pd.merge(\n",
        "    candidates_df,\n",
        "    rdkit_features_for_merge,\n",
        "    on='ID',\n",
        "    how='left'\n",
        ")\n",
        "\n",
        "\n",
        "output_candidates_path = '/content/drive/MyDrive/dacon_1/candidates_03_1.csv'\n",
        "candidates_01_1_with_rdkit_features.to_csv(output_candidates_path, index=False)"
      ],
      "metadata": {
        "id": "esfEluCsu0Tw"
      },
      "execution_count": null,
      "outputs": []
    }
  ]
}