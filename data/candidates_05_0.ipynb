{
  "nbformat": 4,
  "nbformat_minor": 0,
  "metadata": {
    "colab": {
      "provenance": []
    },
    "kernelspec": {
      "name": "python3",
      "display_name": "Python 3"
    },
    "language_info": {
      "name": "python"
    }
  },
  "cells": [
    {
      "cell_type": "code",
      "source": [
        "!pip install numpy<2\n",
        "!pip install rdkit-pypi -q"
      ],
      "metadata": {
        "colab": {
          "base_uri": "https://localhost:8080/"
        },
        "id": "wSho8qZJKnsD",
        "outputId": "75ee9b43-0eca-40b9-a0b0-4abb9e8c4014"
      },
      "execution_count": 1,
      "outputs": [
        {
          "output_type": "stream",
          "name": "stdout",
          "text": [
            "/bin/bash: line 1: 2: No such file or directory\n",
            "\u001b[2K   \u001b[90m━━━━━━━━━━━━━━━━━━━━━━━━━━━━━━━━━━━━━━━━\u001b[0m \u001b[32m29.4/29.4 MB\u001b[0m \u001b[31m55.8 MB/s\u001b[0m eta \u001b[36m0:00:00\u001b[0m\n",
            "\u001b[?25h"
          ]
        }
      ]
    },
    {
      "cell_type": "code",
      "execution_count": 3,
      "metadata": {
        "id": "0Y1RmfKpKWv1"
      },
      "outputs": [],
      "source": [
        "import pandas as pd\n",
        "from rdkit import Chem\n",
        "from rdkit.Chem import AllChem\n",
        "from rdkit.Chem import Descriptors\n",
        "from rdkit.Chem import rdMolDescriptors\n",
        "from rdkit.Chem import rdFreeSASA\n",
        "from rdkit.Chem.rdForceFieldHelpers import UFFOptimizeMolecule\n",
        "import numpy as np\n",
        "from google.colab import drive\n",
        "import time"
      ]
    },
    {
      "cell_type": "code",
      "source": [
        "drive.mount('/content/drive')\n",
        "\n",
        "\n",
        "train_df_path = '/content/drive/MyDrive/dacon_1/train.csv'\n",
        "candidates_df_path = '/content/drive/MyDrive/dacon_1/candidates_03_1.csv'\n",
        "\n",
        "output_candidates_path = '/content/drive/MyDrive/dacon_1/candidates_05_0.csv'\n",
        "\n",
        "train_df = pd.read_csv(train_df_path)\n",
        "candidates_df = pd.read_csv(candidates_df_path)\n"
      ],
      "metadata": {
        "colab": {
          "base_uri": "https://localhost:8080/"
        },
        "id": "R8xTb6-HKiY_",
        "outputId": "8cbbb5ad-1f4a-4ea6-bf04-c1e8c748c8b8"
      },
      "execution_count": 4,
      "outputs": [
        {
          "output_type": "stream",
          "name": "stdout",
          "text": [
            "Mounted at /content/drive\n"
          ]
        }
      ]
    },
    {
      "cell_type": "code",
      "source": [
        "def smiles_to_mol(smiles):\n",
        "    try:\n",
        "        return Chem.MolFromSmiles(smiles)\n",
        "    except:\n",
        "        return None\n",
        "\n",
        "train_df['Mol'] = train_df['Canonical_Smiles'].apply(smiles_to_mol)\n",
        "\n",
        "# conformer\n",
        "def calculate_3d_features_from_conformer(mol):\n",
        "    if mol is None:\n",
        "        return {\n",
        "            'PMI1': None, 'PMI2': None, 'PMI3': None,\n",
        "            'NPR1': None, 'NPR2': None,\n",
        "            'SpherocityIndex': None,\n",
        "            'SASA': None, 'MolVolume': None,\n",
        "            'SlogP_VSA1': None, 'SlogP_VSA2': None, 'SlogP_VSA3': None,\n",
        "            'SlogP_VSA4': None, 'SlogP_VSA5': None, 'SlogP_VSA6': None,\n",
        "            'SlogP_VSA7': None, 'SlogP_VSA8': None, 'SlogP_VSA9': None,\n",
        "            'SlogP_VSA10': None, 'SlogP_VSA11': None,\n",
        "            'PEOE_VSA1': None, 'PEOE_VSA2': None, 'PEOE_VSA3': None,\n",
        "            'PEOE_VSA4': None, 'PEOE_VSA5': None, 'PEOE_VSA6': None,\n",
        "            'PEOE_VSA7': None, 'PEOE_VSA8': None, 'PEOE_VSA9': None,\n",
        "            'PEOE_VSA10': None, 'PEOE_VSA11': None, 'PEOE_VSA12': None,\n",
        "            'PEOE_VSA13': None, 'PEOE_VSA14': None\n",
        "        }\n",
        "\n",
        "    mol_with_hs = Chem.AddHs(mol)\n",
        "\n",
        "    num_conformers = 20  # 생성할 컨포머 개수 (많을수록 정확도, 시간 증가)\n",
        "    max_opt_iters = 500  # 최적화 반복 횟수\n",
        "    prune_rms_thresh = 0.5 # 0.5 Å 미만 RMSD는 중복으로 간주\n",
        "    random_seed = 42\n",
        "\n",
        "\n",
        "    params = AllChem.ETKDGv2()\n",
        "    params.randomSeed = random_seed\n",
        "    params.pruneRmsThresh = prune_rms_thresh\n",
        "\n",
        "    try:\n",
        "        cids = AllChem.EmbedMultipleConfs(mol_with_hs, numConfs=num_conformers, params=params)\n",
        "        if not cids:\n",
        "            raise ValueError(\"No conformers generated.\")\n",
        "    except Exception as e:\n",
        "        return {k: None for k in ['PMI1', 'PMI2', 'PMI3', 'NPR1', 'NPR2', 'SpherocityIndex',\n",
        "                                  'SASA', 'MolVolume',\n",
        "                                  'SlogP_VSA1', 'SlogP_VSA2', 'SlogP_VSA3', 'SlogP_VSA4',\n",
        "                                  'SlogP_VSA5', 'SlogP_VSA6', 'SlogP_VSA7', 'SlogP_VSA8',\n",
        "                                  'SlogP_VSA9', 'SlogP_VSA10', 'SlogP_VSA11',\n",
        "                                  'PEOE_VSA1', 'PEOE_VSA2', 'PEOE_VSA3', 'PEOE_VSA4',\n",
        "                                  'PEOE_VSA5', 'PEOE_VSA6', 'PEOE_VSA7', 'PEOE_VSA8',\n",
        "                                  'PEOE_VSA9', 'PEOE_VSA10', 'PEOE_VSA11', 'PEOE_VSA12',\n",
        "                                  'PEOE_VSA13', 'PEOE_VSA14']}\n",
        "\n",
        "    min_energy = float('inf')\n",
        "    best_conf_id = -1\n",
        "    for cid in cids:\n",
        "        try:\n",
        "            status = AllChem.UFFOptimizeMolecule(mol_with_hs, confId=cid, maxIters=max_opt_iters)\n",
        "            energy = AllChem.UFFGetMoleculeForceField(mol_with_hs, confId=cid).CalcEnergy()\n",
        "            if energy < min_energy:\n",
        "                min_energy = energy\n",
        "                best_conf_id = cid\n",
        "        except Exception as e:\n",
        "            continue\n",
        "\n",
        "    if best_conf_id == -1:\n",
        "        return {k: None for k in ['PMI1', 'PMI2', 'PMI3', 'NPR1', 'NPR2', 'SpherocityIndex',\n",
        "                                  'SASA', 'MolVolume',\n",
        "                                  'SlogP_VSA1', 'SlogP_VSA2', 'SlogP_VSA3', 'SlogP_VSA4',\n",
        "                                  'SlogP_VSA5', 'SlogP_VSA6', 'SlogP_VSA7', 'SlogP_VSA8',\n",
        "                                  'SlogP_VSA9', 'SlogP_VSA10', 'SlogP_VSA11',\n",
        "                                  'PEOE_VSA1', 'PEOE_VSA2', 'PEOE_VSA3', 'PEOE_VSA4',\n",
        "                                  'PEOE_VSA5', 'PEOE_VSA6', 'PEOE_VSA7', 'PEOE_VSA8',\n",
        "                                  'PEOE_VSA9', 'PEOE_VSA10', 'PEOE_VSA11', 'PEOE_VSA12',\n",
        "                                  'PEOE_VSA13', 'PEOE_VSA14']}\n",
        "\n",
        "    features = {}\n",
        "\n",
        "    try:\n",
        "        features['PMI1'] = rdMolDescriptors.CalcPMI1(mol_with_hs, confId=best_conf_id)\n",
        "        features['PMI2'] = rdMolDescriptors.CalcPMI2(mol_with_hs, confId=best_conf_id)\n",
        "        features['PMI3'] = rdMolDescriptors.CalcPMI3(mol_with_hs, confId=best_conf_id)\n",
        "        features['NPR1'] = rdMolDescriptors.CalcNPR1(mol_with_hs, confId=best_conf_id)\n",
        "        features['NPR2'] = rdMolDescriptors.CalcNPR2(mol_with_hs, confId=best_conf_id)\n",
        "    except Exception:\n",
        "        features['PMI1'] = None\n",
        "        features['PMI2'] = None\n",
        "        features['PMI3'] = None\n",
        "        features['NPR1'] = None\n",
        "        features['NPR2'] = None\n",
        "\n",
        "    try:\n",
        "        features['SpherocityIndex'] = Descriptors.SpherocityIndex(mol_with_hs, confId=best_conf_id)\n",
        "    except Exception:\n",
        "        features['SpherocityIndex'] = None\n",
        "\n",
        "    try:\n",
        "        ptable = Chem.GetPeriodicTable()\n",
        "        radii = [ptable.GetRvdw(atom.GetAtomicNum()) for atom in mol_with_hs.GetAtoms()]\n",
        "        features['SASA'] = rdFreeSASA.CalcSASA(mol_with_hs, radii, confIdx=best_conf_id)\n",
        "    except Exception:\n",
        "        features['SASA'] = None\n",
        "\n",
        "    try:\n",
        "        features['MolVolume'] = Descriptors.MolVolume(mol_with_hs, confId=best_conf_id)\n",
        "    except Exception:\n",
        "        features['MolVolume'] = None\n",
        "\n",
        "    for i in range(1, 12): # SlogP_VSA1 ~ SlogP_VSA11\n",
        "        try:\n",
        "            features[f'SlogP_VSA{i}'] = getattr(Descriptors, f'SlogP_VSA{i}')(mol_with_hs)\n",
        "        except Exception:\n",
        "            features[f'SlogP_VSA{i}'] = None\n",
        "    for i in range(1, 15): # PEOE_VSA1 ~ PEOE_VSA14\n",
        "        try:\n",
        "            features[f'PEOE_VSA{i}'] = getattr(Descriptors, f'PEOE_VSA{i}')(mol_with_hs)\n",
        "        except Exception:\n",
        "            features[f'PEOE_VSA{i}'] = None\n",
        "\n",
        "    return features\n",
        "\n",
        "print(\"3D 피처 계산 시작...\")\n",
        "start_time = time.time()\n",
        "\n",
        "rdkit_3d_features_df = train_df['Mol'].apply(calculate_3d_features_from_conformer).apply(pd.Series)\n",
        "\n",
        "end_time = time.time()\n",
        "print(f\" {end_time - start_time:.2f} s\")\n",
        "\n",
        "train_df = train_df.drop(columns=['Mol'])\n",
        "\n",
        "train_df_with_3d_rdkit = pd.concat([train_df, rdkit_3d_features_df], axis=1)\n",
        "\n",
        "_3d_feature_names = list(rdkit_3d_features_df.columns)\n",
        "features_to_merge_into_candidates = train_df_with_3d_rdkit[['ID'] + _3d_feature_names].set_index('ID')\n",
        "\n",
        "\n",
        "print(\"merging...\")\n",
        "candidates_03_1_with_3d_rdkit_features = pd.merge(\n",
        "    candidates_df,\n",
        "    features_to_merge_into_candidates,\n",
        "    on='ID',\n",
        "    how='left'\n",
        ")\n",
        "\n",
        "\n",
        "print(\"saving...\")\n",
        "candidates_00_final = candidates_03_1_with_3d_rdkit_features\n",
        "train_00_final = train_df_with_3d_rdkit\n",
        "\n",
        "candidates_00_final.to_csv(output_candidates_path, index=False)"
      ],
      "metadata": {
        "colab": {
          "base_uri": "https://localhost:8080/"
        },
        "id": "3sBfO50OLNML",
        "outputId": "9b0c9d7a-5e1b-4f03-c103-cfe4508c8fef"
      },
      "execution_count": null,
      "outputs": [
        {
          "output_type": "stream",
          "name": "stdout",
          "text": [
            "3D 피처 계산 시작...\n"
          ]
        }
      ]
    }
  ]
}