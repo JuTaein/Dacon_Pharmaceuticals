{
  "nbformat": 4,
  "nbformat_minor": 0,
  "metadata": {
    "colab": {
      "provenance": [],
      "gpuType": "T4"
    },
    "kernelspec": {
      "name": "python3",
      "display_name": "Python 3"
    },
    "language_info": {
      "name": "python"
    }
  },
  "cells": [
    {
      "cell_type": "markdown",
      "source": [
        "# Import"
      ],
      "metadata": {
        "id": "DcnHtWqnXZjj"
      }
    },
    {
      "cell_type": "code",
      "source": [
        "from google.colab import drive\n",
        "drive.mount('/content/drive')"
      ],
      "metadata": {
        "id": "50gEKfSBXUsR",
        "colab": {
          "base_uri": "https://localhost:8080/"
        },
        "outputId": "dbfcb96b-eb30-46d6-cc93-d1b02e3f2fe4"
      },
      "execution_count": null,
      "outputs": [
        {
          "output_type": "stream",
          "name": "stdout",
          "text": [
            "Mounted at /content/drive\n"
          ]
        }
      ]
    },
    {
      "cell_type": "code",
      "source": [
        "!pip install pandas scikit-learn catboost\n",
        "!pip install scikit-optimize\n",
        "\n",
        "import pandas as pd\n",
        "from sklearn.model_selection import train_test_split, KFold, cross_validate, RandomizedSearchCV, GridSearchCV\n",
        "from sklearn.ensemble import RandomForestRegressor, GradientBoostingRegressor, AdaBoostRegressor, VotingRegressor, StackingRegressor\n",
        "from sklearn.neural_network import MLPRegressor\n",
        "from lightgbm import LGBMRegressor\n",
        "from sklearn.metrics import mean_squared_error\n",
        "from scipy.stats import pearsonr\n",
        "from xgboost import XGBRegressor\n",
        "from google.colab import files\n",
        "from scipy.stats import uniform, randint\n",
        "from catboost import CatBoostRegressor\n",
        "import numpy as np\n",
        "from sklearn.linear_model import Ridge\n",
        "from google.colab import files\n",
        "from scipy.stats import uniform, randint\n",
        "from sklearn.metrics import mean_squared_error\n",
        "from scipy.stats import pearsonr\n",
        "\n",
        "train = pd.read_csv(\"/content/drive/MyDrive/dacon_1/candidates_04_01.csv\")"
      ],
      "metadata": {
        "id": "OIPwoZlDXUIE",
        "colab": {
          "base_uri": "https://localhost:8080/"
        },
        "outputId": "8de22387-a48c-48a4-841d-d07b3246d641"
      },
      "execution_count": null,
      "outputs": [
        {
          "output_type": "stream",
          "name": "stdout",
          "text": [
            "Requirement already satisfied: pandas in /usr/local/lib/python3.11/dist-packages (2.2.2)\n",
            "Requirement already satisfied: scikit-learn in /usr/local/lib/python3.11/dist-packages (1.6.1)\n",
            "Requirement already satisfied: catboost in /usr/local/lib/python3.11/dist-packages (1.2.8)\n",
            "Requirement already satisfied: numpy>=1.23.2 in /usr/local/lib/python3.11/dist-packages (from pandas) (2.0.2)\n",
            "Requirement already satisfied: python-dateutil>=2.8.2 in /usr/local/lib/python3.11/dist-packages (from pandas) (2.9.0.post0)\n",
            "Requirement already satisfied: pytz>=2020.1 in /usr/local/lib/python3.11/dist-packages (from pandas) (2025.2)\n",
            "Requirement already satisfied: tzdata>=2022.7 in /usr/local/lib/python3.11/dist-packages (from pandas) (2025.2)\n",
            "Requirement already satisfied: scipy>=1.6.0 in /usr/local/lib/python3.11/dist-packages (from scikit-learn) (1.16.0)\n",
            "Requirement already satisfied: joblib>=1.2.0 in /usr/local/lib/python3.11/dist-packages (from scikit-learn) (1.5.1)\n",
            "Requirement already satisfied: threadpoolctl>=3.1.0 in /usr/local/lib/python3.11/dist-packages (from scikit-learn) (3.6.0)\n",
            "Requirement already satisfied: graphviz in /usr/local/lib/python3.11/dist-packages (from catboost) (0.21)\n",
            "Requirement already satisfied: matplotlib in /usr/local/lib/python3.11/dist-packages (from catboost) (3.10.0)\n",
            "Requirement already satisfied: plotly in /usr/local/lib/python3.11/dist-packages (from catboost) (5.24.1)\n",
            "Requirement already satisfied: six in /usr/local/lib/python3.11/dist-packages (from catboost) (1.17.0)\n",
            "Requirement already satisfied: contourpy>=1.0.1 in /usr/local/lib/python3.11/dist-packages (from matplotlib->catboost) (1.3.2)\n",
            "Requirement already satisfied: cycler>=0.10 in /usr/local/lib/python3.11/dist-packages (from matplotlib->catboost) (0.12.1)\n",
            "Requirement already satisfied: fonttools>=4.22.0 in /usr/local/lib/python3.11/dist-packages (from matplotlib->catboost) (4.59.0)\n",
            "Requirement already satisfied: kiwisolver>=1.3.1 in /usr/local/lib/python3.11/dist-packages (from matplotlib->catboost) (1.4.8)\n",
            "Requirement already satisfied: packaging>=20.0 in /usr/local/lib/python3.11/dist-packages (from matplotlib->catboost) (25.0)\n",
            "Requirement already satisfied: pillow>=8 in /usr/local/lib/python3.11/dist-packages (from matplotlib->catboost) (11.3.0)\n",
            "Requirement already satisfied: pyparsing>=2.3.1 in /usr/local/lib/python3.11/dist-packages (from matplotlib->catboost) (3.2.3)\n",
            "Requirement already satisfied: tenacity>=6.2.0 in /usr/local/lib/python3.11/dist-packages (from plotly->catboost) (8.5.0)\n",
            "Requirement already satisfied: scikit-optimize in /usr/local/lib/python3.11/dist-packages (0.10.2)\n",
            "Requirement already satisfied: joblib>=0.11 in /usr/local/lib/python3.11/dist-packages (from scikit-optimize) (1.5.1)\n",
            "Requirement already satisfied: pyaml>=16.9 in /usr/local/lib/python3.11/dist-packages (from scikit-optimize) (25.7.0)\n",
            "Requirement already satisfied: numpy>=1.20.3 in /usr/local/lib/python3.11/dist-packages (from scikit-optimize) (2.0.2)\n",
            "Requirement already satisfied: scipy>=1.1.0 in /usr/local/lib/python3.11/dist-packages (from scikit-optimize) (1.16.0)\n",
            "Requirement already satisfied: scikit-learn>=1.0.0 in /usr/local/lib/python3.11/dist-packages (from scikit-optimize) (1.6.1)\n",
            "Requirement already satisfied: packaging>=21.3 in /usr/local/lib/python3.11/dist-packages (from scikit-optimize) (25.0)\n",
            "Requirement already satisfied: PyYAML in /usr/local/lib/python3.11/dist-packages (from pyaml>=16.9->scikit-optimize) (6.0.2)\n",
            "Requirement already satisfied: threadpoolctl>=3.1.0 in /usr/local/lib/python3.11/dist-packages (from scikit-learn>=1.0.0->scikit-optimize) (3.6.0)\n"
          ]
        }
      ]
    },
    {
      "cell_type": "markdown",
      "source": [
        "#validation set 분리"
      ],
      "metadata": {
        "id": "Lx_WIq2NVv8R"
      }
    },
    {
      "cell_type": "code",
      "execution_count": null,
      "metadata": {
        "id": "58FXL10QVtqZ"
      },
      "outputs": [],
      "source": [
        "X = train.drop(columns=[\"ID\", \"Inhibition\"])\n",
        "y = train[\"Inhibition\"]\n",
        "\n",
        "X_train, X_val, y_train, y_val = train_test_split(\n",
        "    X, y, test_size=0.1, random_state=42)"
      ]
    },
    {
      "cell_type": "markdown",
      "source": [
        "#Bayes Search"
      ],
      "metadata": {
        "id": "oGR8jrvmI7hG"
      }
    },
    {
      "cell_type": "code",
      "source": [
        "from skopt import BayesSearchCV\n",
        "from sklearn.ensemble import RandomForestClassifier\n",
        "from sklearn.model_selection import StratifiedKFold\n",
        "from sklearn.metrics import make_scorer, f1_score\n",
        "import numpy as np\n",
        "\n",
        "pbar = None\n",
        "\n",
        "def custom_score(y_true, y_pred):\n",
        "    from sklearn.metrics import mean_squared_error\n",
        "    from scipy.stats import pearsonr\n",
        "\n",
        "    mse = mean_squared_error(y_true, y_pred)\n",
        "    rmse = np.sqrt(mse)\n",
        "    y_range = y_true.max() - y_true.min()\n",
        "    norm_rmse = rmse / y_range if y_range != 0 else 0\n",
        "\n",
        "    if len(np.unique(y_true)) > 1 and len(np.unique(y_pred)) > 1:\n",
        "        pearson_corr = pearsonr(y_true, y_pred)[0]\n",
        "    else:\n",
        "        pearson_corr = 0\n",
        "    score = 0.5 * (1 - min(norm_rmse, 1)) + 0.5 * pearson_corr\n",
        "\n",
        "\n",
        "    return score\n",
        "\n",
        "scoring = make_scorer(custom_score, greater_is_better=True)\n",
        "\n",
        "cv = KFold(n_splits=5, shuffle=True, random_state=42)\n",
        "\n",
        "rf = RandomForestRegressor(random_state=42)\n",
        "\n",
        "param_space = {\n",
        "     'bootstrap': [True],\n",
        "     'max_depth': (30,45), #37\n",
        "     'max_features': (0.3, 0.6), #0.4528\n",
        "     'max_samples': (0.5, 0.8), #0.6591\n",
        "     'min_samples_leaf': (3, 7), #5\n",
        "     'min_samples_split': (15, 30), #24\n",
        "     'min_weight_fraction_leaf': (0.005, 0.012), #0.009611784839406745\n",
        "     'n_estimators': (1500, 2000)} #1693\n",
        "\n",
        "\n",
        "bayes_search = BayesSearchCV(\n",
        "    estimator=rf,\n",
        "    search_spaces=param_space,\n",
        "    n_iter=30,\n",
        "    cv=cv,\n",
        "    scoring=scoring,\n",
        "    n_jobs=-1,\n",
        "    verbose=2,\n",
        "    random_state=42,\n",
        "    error_score='raise'\n",
        ")\n",
        "\n",
        "bayes_search.fit(X_train, y_train)\n",
        "\n",
        "print(\"Best rf Parameters (Bayesian):\", bayes_search.best_params_)\n",
        "print(\"Best Mean CV Score:\", bayes_search.best_score_)\n",
        "\n",
        "best_rf = bayes_search.best_estimator_\n",
        "best_rf.fit(X_train, y_train)\n",
        "\n",
        "print(\"--- rf (bayes Tuned) on Validation ---\")\n",
        "y_pred = best_rf.predict(X_val)\n",
        "mse = mean_squared_error(y_val, y_pred)\n",
        "rmse = np.sqrt(mse)\n",
        "y_range = y_val.max() - y_val.min()\n",
        "norm_rmse = rmse / y_range\n",
        "pearson_corr, _ = pearsonr(y_val, y_pred)\n",
        "score = 0.5 * (1 - min(norm_rmse, 1)) + 0.5 * pearson_corr\n",
        "print(f'Normalized RMSE: {norm_rmse:.12f}')\n",
        "print(f'Pearson Correlation: {pearson_corr:.12f}')\n",
        "print(f'Score: {score:.12f}')"
      ],
      "metadata": {
        "colab": {
          "base_uri": "https://localhost:8080/"
        },
        "id": "z0T7FJknvO23",
        "outputId": "1eb28405-6680-46de-c6a8-b21eee924884"
      },
      "execution_count": null,
      "outputs": [
        {
          "output_type": "stream",
          "name": "stdout",
          "text": [
            "Fitting 5 folds for each of 1 candidates, totalling 5 fits\n",
            "Fitting 5 folds for each of 1 candidates, totalling 5 fits\n",
            "Fitting 5 folds for each of 1 candidates, totalling 5 fits\n",
            "Fitting 5 folds for each of 1 candidates, totalling 5 fits\n",
            "Fitting 5 folds for each of 1 candidates, totalling 5 fits\n",
            "Fitting 5 folds for each of 1 candidates, totalling 5 fits\n",
            "Fitting 5 folds for each of 1 candidates, totalling 5 fits\n",
            "Fitting 5 folds for each of 1 candidates, totalling 5 fits\n",
            "Fitting 5 folds for each of 1 candidates, totalling 5 fits\n",
            "Fitting 5 folds for each of 1 candidates, totalling 5 fits\n",
            "Fitting 5 folds for each of 1 candidates, totalling 5 fits\n",
            "Fitting 5 folds for each of 1 candidates, totalling 5 fits\n",
            "Fitting 5 folds for each of 1 candidates, totalling 5 fits\n",
            "Fitting 5 folds for each of 1 candidates, totalling 5 fits\n",
            "Fitting 5 folds for each of 1 candidates, totalling 5 fits\n",
            "Fitting 5 folds for each of 1 candidates, totalling 5 fits\n",
            "Fitting 5 folds for each of 1 candidates, totalling 5 fits\n",
            "Fitting 5 folds for each of 1 candidates, totalling 5 fits\n",
            "Fitting 5 folds for each of 1 candidates, totalling 5 fits\n",
            "Fitting 5 folds for each of 1 candidates, totalling 5 fits\n",
            "Fitting 5 folds for each of 1 candidates, totalling 5 fits\n",
            "Fitting 5 folds for each of 1 candidates, totalling 5 fits\n",
            "Fitting 5 folds for each of 1 candidates, totalling 5 fits\n",
            "Fitting 5 folds for each of 1 candidates, totalling 5 fits\n",
            "Fitting 5 folds for each of 1 candidates, totalling 5 fits\n",
            "Fitting 5 folds for each of 1 candidates, totalling 5 fits\n",
            "Fitting 5 folds for each of 1 candidates, totalling 5 fits\n",
            "Fitting 5 folds for each of 1 candidates, totalling 5 fits\n",
            "Fitting 5 folds for each of 1 candidates, totalling 5 fits\n",
            "Fitting 5 folds for each of 1 candidates, totalling 5 fits\n",
            "Best rf Parameters (Bayesian): OrderedDict([('bootstrap', True), ('max_depth', 34), ('max_features', 0.6), ('max_samples', 0.8), ('min_samples_leaf', 5), ('min_samples_split', 15), ('min_weight_fraction_leaf', 0.012), ('n_estimators', 1500)])\n",
            "Best Mean CV Score: 0.5824982127195694\n",
            "--- rf (bayes Tuned) on Validation ---\n",
            "Normalized RMSE: 0.242350275060\n",
            "Pearson Correlation: 0.383063603600\n",
            "Score: 0.570356664270\n"
          ]
        }
      ]
    },
    {
      "cell_type": "code",
      "source": [
        "import joblib\n",
        "\n",
        "joblib.dump(best_rf, \"./RandomForest.pkl\")"
      ],
      "metadata": {
        "colab": {
          "base_uri": "https://localhost:8080/"
        },
        "id": "fILr8VdIa138",
        "outputId": "9e6b112d-bec9-4691-f290-db18f9226f51"
      },
      "execution_count": null,
      "outputs": [
        {
          "output_type": "execute_result",
          "data": {
            "text/plain": [
              "['./CatBoost.pkl']"
            ]
          },
          "metadata": {},
          "execution_count": 17
        }
      ]
    }
  ]
}